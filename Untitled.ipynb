{
 "cells": [
  {
   "cell_type": "code",
   "execution_count": 8,
   "id": "5c0d375f",
   "metadata": {},
   "outputs": [],
   "source": [
    "import gcsfs\n",
    "import os\n",
    "import base64"
   ]
  },
  {
   "cell_type": "code",
   "execution_count": 9,
   "id": "22f15516",
   "metadata": {},
   "outputs": [
    {
     "ename": "Error",
     "evalue": "Incorrect padding",
     "output_type": "error",
     "traceback": [
      "\u001b[0;31m---------------------------------------------------------------------------\u001b[0m",
      "\u001b[0;31mError\u001b[0m                                     Traceback (most recent call last)",
      "\u001b[0;32m/tmp/ipykernel_2601627/3663101489.py\u001b[0m in \u001b[0;36m<module>\u001b[0;34m\u001b[0m\n\u001b[1;32m     19\u001b[0m \u001b[0;34m\u001b[0m\u001b[0m\n\u001b[1;32m     20\u001b[0m \u001b[0;34m\u001b[0m\u001b[0m\n\u001b[0;32m---> 21\u001b[0;31m \u001b[0mcredentials\u001b[0m \u001b[0;34m=\u001b[0m \u001b[0mget_gcs_credentials\u001b[0m\u001b[0;34m(\u001b[0m\u001b[0;34m'/mnt/data1/keys/gcs-key.json'\u001b[0m\u001b[0;34m)\u001b[0m\u001b[0;34m\u001b[0m\u001b[0;34m\u001b[0m\u001b[0m\n\u001b[0m",
      "\u001b[0;32m/tmp/ipykernel_2601627/3663101489.py\u001b[0m in \u001b[0;36mget_gcs_credentials\u001b[0;34m(cred)\u001b[0m\n\u001b[1;32m     10\u001b[0m \u001b[0;34m\u001b[0m\u001b[0m\n\u001b[1;32m     11\u001b[0m     \u001b[0mcred_bytes\u001b[0m \u001b[0;34m=\u001b[0m \u001b[0mcred\u001b[0m\u001b[0;34m.\u001b[0m\u001b[0mencode\u001b[0m\u001b[0;34m(\u001b[0m\u001b[0;34m\"ascii\"\u001b[0m\u001b[0;34m)\u001b[0m\u001b[0;34m\u001b[0m\u001b[0;34m\u001b[0m\u001b[0m\n\u001b[0;32m---> 12\u001b[0;31m     \u001b[0mdecoded_bytes\u001b[0m \u001b[0;34m=\u001b[0m \u001b[0mbase64\u001b[0m\u001b[0;34m.\u001b[0m\u001b[0mb64decode\u001b[0m\u001b[0;34m(\u001b[0m\u001b[0mcred_bytes\u001b[0m\u001b[0;34m)\u001b[0m\u001b[0;34m\u001b[0m\u001b[0;34m\u001b[0m\u001b[0m\n\u001b[0m\u001b[1;32m     13\u001b[0m     \u001b[0mdecoded\u001b[0m \u001b[0;34m=\u001b[0m \u001b[0mdecoded_bytes\u001b[0m\u001b[0;34m.\u001b[0m\u001b[0mdecode\u001b[0m\u001b[0;34m(\u001b[0m\u001b[0;34m\"ascii\"\u001b[0m\u001b[0;34m)\u001b[0m\u001b[0;34m\u001b[0m\u001b[0;34m\u001b[0m\u001b[0m\n\u001b[1;32m     14\u001b[0m \u001b[0;34m\u001b[0m\u001b[0m\n",
      "\u001b[0;32m~/anaconda3/lib/python3.9/base64.py\u001b[0m in \u001b[0;36mb64decode\u001b[0;34m(s, altchars, validate)\u001b[0m\n\u001b[1;32m     85\u001b[0m     \u001b[0;32mif\u001b[0m \u001b[0mvalidate\u001b[0m \u001b[0;32mand\u001b[0m \u001b[0;32mnot\u001b[0m \u001b[0mre\u001b[0m\u001b[0;34m.\u001b[0m\u001b[0mfullmatch\u001b[0m\u001b[0;34m(\u001b[0m\u001b[0;34mb'[A-Za-z0-9+/]*={0,2}'\u001b[0m\u001b[0;34m,\u001b[0m \u001b[0ms\u001b[0m\u001b[0;34m)\u001b[0m\u001b[0;34m:\u001b[0m\u001b[0;34m\u001b[0m\u001b[0;34m\u001b[0m\u001b[0m\n\u001b[1;32m     86\u001b[0m         \u001b[0;32mraise\u001b[0m \u001b[0mbinascii\u001b[0m\u001b[0;34m.\u001b[0m\u001b[0mError\u001b[0m\u001b[0;34m(\u001b[0m\u001b[0;34m'Non-base64 digit found'\u001b[0m\u001b[0;34m)\u001b[0m\u001b[0;34m\u001b[0m\u001b[0;34m\u001b[0m\u001b[0m\n\u001b[0;32m---> 87\u001b[0;31m     \u001b[0;32mreturn\u001b[0m \u001b[0mbinascii\u001b[0m\u001b[0;34m.\u001b[0m\u001b[0ma2b_base64\u001b[0m\u001b[0;34m(\u001b[0m\u001b[0ms\u001b[0m\u001b[0;34m)\u001b[0m\u001b[0;34m\u001b[0m\u001b[0;34m\u001b[0m\u001b[0m\n\u001b[0m\u001b[1;32m     88\u001b[0m \u001b[0;34m\u001b[0m\u001b[0m\n\u001b[1;32m     89\u001b[0m \u001b[0;34m\u001b[0m\u001b[0m\n",
      "\u001b[0;31mError\u001b[0m: Incorrect padding"
     ]
    }
   ],
   "source": [
    "from google.oauth2 import service_account\n",
    "\n",
    "GAC = os.environ.get(\"GOOGLE_APPLICATION_CREDENTIALS\")\n",
    "\n",
    "def get_gcs_credentials(cred: str):\n",
    "    \"\"\"Convert env var to gcs credential obj\"\"\"\n",
    "\n",
    "    if not cred:\n",
    "        return None\n",
    "\n",
    "    cred_bytes = cred.encode(\"ascii\")\n",
    "    decoded_bytes = base64.b64decode(cred_bytes)\n",
    "    decoded = decoded_bytes.decode(\"ascii\")\n",
    "\n",
    "    obj = json.loads(decoded)\n",
    "    sa = service_account.Credentials.from_service_account_info(obj)\n",
    "\n",
    "    return sa\n",
    "\n",
    "\n",
    "credentials = get_gcs_credentials('/mnt/data1/keys/gcs-key.json')"
   ]
  },
  {
   "cell_type": "code",
   "execution_count": null,
   "id": "61129136",
   "metadata": {},
   "outputs": [],
   "source": []
  },
  {
   "cell_type": "code",
   "execution_count": 23,
   "id": "b73c30d3",
   "metadata": {},
   "outputs": [],
   "source": [
    "fs = gcsfs.GCSFileSystem(token='/mnt/data1/keys/gcs-key.json')"
   ]
  },
  {
   "cell_type": "code",
   "execution_count": 40,
   "id": "22a6e207",
   "metadata": {},
   "outputs": [
    {
     "data": {
      "text/plain": [
       "['atlas_test123/exports_6191e4dab40d35cba31b0fb4_Vexcel Annotations.tar.gz',\n",
       " 'atlas_test123/test1',\n",
       " 'atlas_test123/test2']"
      ]
     },
     "execution_count": 40,
     "metadata": {},
     "output_type": "execute_result"
    }
   ],
   "source": [
    "fs.ls('atlas_test123')"
   ]
  },
  {
   "cell_type": "code",
   "execution_count": 25,
   "id": "4eeb8395",
   "metadata": {},
   "outputs": [
    {
     "data": {
      "text/plain": [
       "False"
      ]
     },
     "execution_count": 25,
     "metadata": {},
     "output_type": "execute_result"
    }
   ],
   "source": [
    "fs.exists('atlas_test1234')"
   ]
  },
  {
   "cell_type": "code",
   "execution_count": 28,
   "id": "3759573c",
   "metadata": {},
   "outputs": [
    {
     "name": "stdout",
     "output_type": "stream",
     "text": [
      "b'{\"transforms\": \"transforms_train.pkl\", \"url_posix_path\": \"train-{0..5}.tar\", \"mode\": \"train\", \"shards_count\": 6, \"num_samples\": 74, \"keys\": [\"geojson.json\", \"tile_0.jp2\"], \"samples_per_shard\": 14}'\n"
     ]
    }
   ],
   "source": [
    "with fs.open('atlas_test123/test1/train/metadata_train.json', 'rb') as fp:\n",
    "    print(fp.read())"
   ]
  },
  {
   "cell_type": "code",
   "execution_count": 35,
   "id": "e9b0ee76",
   "metadata": {},
   "outputs": [],
   "source": [
    "resp = fs.delete('atlas_test123/test1')"
   ]
  },
  {
   "cell_type": "code",
   "execution_count": 38,
   "id": "245a07ec",
   "metadata": {},
   "outputs": [],
   "source": [
    "fs.rmdir('atlas_test123/test1')"
   ]
  },
  {
   "cell_type": "code",
   "execution_count": 44,
   "id": "9b1065d4",
   "metadata": {},
   "outputs": [],
   "source": [
    "loop = fs.loop"
   ]
  },
  {
   "cell_type": "code",
   "execution_count": 45,
   "id": "5a428cb9",
   "metadata": {},
   "outputs": [],
   "source": [
    "session = fs.session"
   ]
  },
  {
   "cell_type": "code",
   "execution_count": 47,
   "id": "7fed48ec",
   "metadata": {},
   "outputs": [],
   "source": [
    "t = fs.close_session(loop=loop, session=session)"
   ]
  },
  {
   "cell_type": "code",
   "execution_count": 48,
   "id": "2c1dbf48",
   "metadata": {},
   "outputs": [],
   "source": [
    "t"
   ]
  },
  {
   "cell_type": "code",
   "execution_count": null,
   "id": "cafcd24a",
   "metadata": {},
   "outputs": [],
   "source": []
  }
 ],
 "metadata": {
  "kernelspec": {
   "display_name": "Python 3 (ipykernel)",
   "language": "python",
   "name": "python3"
  },
  "language_info": {
   "codemirror_mode": {
    "name": "ipython",
    "version": 3
   },
   "file_extension": ".py",
   "mimetype": "text/x-python",
   "name": "python",
   "nbconvert_exporter": "python",
   "pygments_lexer": "ipython3",
   "version": "3.9.7"
  }
 },
 "nbformat": 4,
 "nbformat_minor": 5
}
